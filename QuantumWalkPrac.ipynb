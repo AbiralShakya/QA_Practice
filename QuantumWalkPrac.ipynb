{
 "cells": [
  {
   "cell_type": "code",
   "execution_count": 2,
   "metadata": {},
   "outputs": [],
   "source": [
    "from qiskit import QuantumCircuit, execute, Aer, IBMQ, QuantumRegister, ClassicalRegister\n",
    "from qiskit.compiler import transpile, assemble\n",
    "from qiskit.tools.jupyter import *\n",
    "from qiskit.visualization import *\n",
    "from qiskit.circuit.library import QFT\n",
    "from numpy import pi\n",
    "from qiskit.quantum_info import Statevector\n",
    "from matplotlib import pyplot as plt\n",
    "import numpy as np"
   ]
  },
  {
   "cell_type": "code",
   "execution_count": 3,
   "metadata": {},
   "outputs": [
    {
     "data": {
      "text/html": [
       "<pre style=\"word-wrap: normal;white-space: pre;background: #fff0;line-height: 1.1;font-family: &quot;Courier New&quot;,Courier,monospace\">                       \n",
       "q_0: ──────────────────\n",
       "                       \n",
       "q_1: ──────────────────\n",
       "                       \n",
       "q_2: ──────────────────\n",
       "                       \n",
       "q_3: ──────────────────\n",
       "     ┌───┐┌───┐   ┌───┐\n",
       "q_4: ┤ H ├┤ Z ├─■─┤ H ├\n",
       "     ├───┤├───┤ │ ├───┤\n",
       "q_5: ┤ H ├┤ Z ├─■─┤ H ├\n",
       "     └───┘└───┘   └───┘</pre>"
      ],
      "text/plain": [
       "                       \n",
       "q_0: ──────────────────\n",
       "                       \n",
       "q_1: ──────────────────\n",
       "                       \n",
       "q_2: ──────────────────\n",
       "                       \n",
       "q_3: ──────────────────\n",
       "     ┌───┐┌───┐   ┌───┐\n",
       "q_4: ┤ H ├┤ Z ├─■─┤ H ├\n",
       "     ├───┤├───┤ │ ├───┤\n",
       "q_5: ┤ H ├┤ Z ├─■─┤ H ├\n",
       "     └───┘└───┘   └───┘"
      ]
     },
     "execution_count": 3,
     "metadata": {},
     "output_type": "execute_result"
    }
   ],
   "source": [
    "one_step_circuit =QuantumCircuit(6, name = ' ONE STEP')\n",
    "\n",
    "#coin operator \n",
    "one_step_circuit.h([4,5])\n",
    "one_step_circuit.z([4,5])\n",
    "one_step_circuit.cz(4,5)\n",
    "one_step_circuit.h([4,5])\n",
    "one_step_circuit.draw()"
   ]
  },
  {
   "cell_type": "code",
   "execution_count": 4,
   "metadata": {},
   "outputs": [
    {
     "data": {
      "text/html": [
       "<pre style=\"word-wrap: normal;white-space: pre;background: #fff0;line-height: 1.1;font-family: &quot;Courier New&quot;,Courier,monospace\">                            ┌───┐                              \n",
       "q_0: ───────────────────────┤ X ├──────────────────────────────\n",
       "                            └─┬─┘     ┌───┐                    \n",
       "q_1: ─────────────────────────┼───────┤ X ├────────────────────\n",
       "                              │       └─┬─┘     ┌───┐          \n",
       "q_2: ─────────────────────────┼─────────┼───────┤ X ├──────────\n",
       "                              │         │       └─┬─┘     ┌───┐\n",
       "q_3: ─────────────────────────┼─────────┼─────────┼───────┤ X ├\n",
       "     ┌───┐┌───┐   ┌───┐┌───┐  │  ┌───┐  │  ┌───┐  │  ┌───┐└─┬─┘\n",
       "q_4: ┤ H ├┤ Z ├─■─┤ H ├┤ X ├──■──┤ X ├──■──┤ X ├──■──┤ X ├──■──\n",
       "     ├───┤├───┤ │ ├───┤├───┤  │  └───┘  │  ├───┤  │  └───┘  │  \n",
       "q_5: ┤ H ├┤ Z ├─■─┤ H ├┤ X ├──■─────────■──┤ X ├──■─────────■──\n",
       "     └───┘└───┘   └───┘└───┘               └───┘               </pre>"
      ],
      "text/plain": [
       "                            ┌───┐                              \n",
       "q_0: ───────────────────────┤ X ├──────────────────────────────\n",
       "                            └─┬─┘     ┌───┐                    \n",
       "q_1: ─────────────────────────┼───────┤ X ├────────────────────\n",
       "                              │       └─┬─┘     ┌───┐          \n",
       "q_2: ─────────────────────────┼─────────┼───────┤ X ├──────────\n",
       "                              │         │       └─┬─┘     ┌───┐\n",
       "q_3: ─────────────────────────┼─────────┼─────────┼───────┤ X ├\n",
       "     ┌───┐┌───┐   ┌───┐┌───┐  │  ┌───┐  │  ┌───┐  │  ┌───┐└─┬─┘\n",
       "q_4: ┤ H ├┤ Z ├─■─┤ H ├┤ X ├──■──┤ X ├──■──┤ X ├──■──┤ X ├──■──\n",
       "     ├───┤├───┤ │ ├───┤├───┤  │  └───┘  │  ├───┤  │  └───┘  │  \n",
       "q_5: ┤ H ├┤ Z ├─■─┤ H ├┤ X ├──■─────────■──┤ X ├──■─────────■──\n",
       "     └───┘└───┘   └───┘└───┘               └───┘               "
      ]
     },
     "execution_count": 4,
     "metadata": {},
     "output_type": "execute_result"
    }
   ],
   "source": [
    "#shift operator func for 4d hybercbe\n",
    "\n",
    "def shift_operator(circuit):\n",
    "    for i in range(0,4):\n",
    "        circuit.x(4)\n",
    "        if i % 2 == 0:\n",
    "            circuit.x(5)\n",
    "        circuit.ccx(4,5,i)\n",
    "shift_operator(one_step_circuit)\n",
    "one_step_gate = one_step_circuit.to_instruction()\n",
    "one_step_circuit.draw()"
   ]
  },
  {
   "cell_type": "code",
   "execution_count": 5,
   "metadata": {},
   "outputs": [],
   "source": [
    "#make controlled gates\n",
    "inv_cont_one_step = one_step_circuit.inverse().control()\n",
    "inv_cont_one_step_gate = inv_cont_one_step.to_instruction()\n",
    "cont_one_step = one_step_circuit.control()\n",
    "cont_one_step_gate = cont_one_step.to_instruction()"
   ]
  },
  {
   "cell_type": "code",
   "execution_count": 6,
   "metadata": {},
   "outputs": [
    {
     "data": {
      "image/png": "[encoded data removed]",
      "text/plain": [
       "<Figure size 1170.2x264.88 with 1 Axes>"
      ]
     },
     "execution_count": 6,
     "metadata": {},
     "output_type": "execute_result"
    }
   ],
   "source": [
    "inv_qft_gate = QFT(4, inverse = True).to_instruction()\n",
    "qft_gate = QFT(4, inverse = False).to_instruction()\n",
    "\n",
    "QFT(4, inverse= True).decompose().draw(\"mpl\")"
   ]
  },
  {
   "cell_type": "code",
   "execution_count": null,
   "metadata": {},
   "outputs": [],
   "source": []
  }
 ],
 "metadata": {
  "kernelspec": {
   "display_name": "Python 3",
   "language": "python",
   "name": "python3"
  },
  "language_info": {
   "codemirror_mode": {
    "name": "ipython",
    "version": 3
   },
   "file_extension": ".py",
   "mimetype": "text/x-python",
   "name": "python",
   "nbconvert_exporter": "python",
   "pygments_lexer": "ipython3",
   "version": "3.10.4 (tags/v3.10.4:9d38120, Mar 23 2022, 23:13:41) [MSC v.1929 64 bit (AMD64)]"
  },
  "orig_nbformat": 4,
  "vscode": {
   "interpreter": {
    "hash": "82d8b8c0e0cff7f9c0ebf5c0e4b510c86a442baeee169f356d7c0d3eff81e5f6"
   }
  }
 },
 "nbformat": 4,
 "nbformat_minor": 2
}
