{
 "cells": [
  {
   "cell_type": "code",
   "execution_count": 2,
   "metadata": {},
   "outputs": [
    {
     "name": "stderr",
     "output_type": "stream",
     "text": [
      "<>:13: SyntaxWarning: 'int' object is not callable; perhaps you missed a comma?\n",
      "<>:13: SyntaxWarning: 'int' object is not callable; perhaps you missed a comma?\n",
      "C:\\Users\\abira\\AppData\\Local\\Temp\\ipykernel_28172\\4128953266.py:13: SyntaxWarning: 'int' object is not callable; perhaps you missed a comma?\n",
      "  imabalance_val += np.abs(amp) ** 2 (Ne - No) / (Ne + No)\n"
     ]
    }
   ],
   "source": [
    "import numpy as np \n",
    "\n",
    "def get_Imbalance(state):\n",
    "    imabalance_val =0\n",
    "    state_dict = state.to_dict()\n",
    "\n",
    "    for basis,amp in state_dict.items():\n",
    "        Ne, No = 0,0\n",
    "        for i in range(len(basis)):\n",
    "            if i % 2 == 0 and basis[i] == '1':\n",
    "                No += 1\n",
    "        if Ne + No != 0:\n",
    "            imabalance_val += np.abs(amp) ** 2 (Ne - No) / (Ne + No)\n",
    "    return imabalance_val"
   ]
  },
  {
   "cell_type": "code",
   "execution_count": 3,
   "metadata": {},
   "outputs": [],
   "source": [
    "import matplotlib.pyplot as plt \n",
    "from qiskit import QuantumCircuit, QuantumRegister, transpile, Aer\n",
    "from qiskit import ClassicalRegister\n",
    "from qiskit.circuit import Parameter, Instruction\n",
    "import qiskit.quantum_info as qi \n",
    "from tqdm.notebook import tqdm"
   ]
  },
  {
   "cell_type": "code",
   "execution_count": 4,
   "metadata": {},
   "outputs": [],
   "source": [
    "def Trot_qc_mbl(num_qubits, t, J, deltas):\n",
    "    #creates trotterized quantm circuit at given time for 1d hesenberg xxz model\n",
    "\n",
    "    def ZZ_gate(J, t):\n",
    "        ZZ_qr = QuantumRegister(2)\n",
    "        ZZ_qc = QuantumCircuit(ZZ_qr, name = 'ZZ')\n",
    "        ZZ_qc.cnot(0,1)\n",
    "        ZZ_qc.rz(2 * J * t, 1)\n",
    "        ZZ_qc.cnot(0,1)\n",
    "        ZZ = ZZ_qc.to_instruction()\n",
    "        return ZZ\n",
    "    \n",
    "    def XX_gate(t):\n",
    "        XX_qr = QuantumRegister(2)\n",
    "        XX_qc = QuantumCircuit(XX_qr, name = 'XX')\n",
    "        XX_qc.ry(np.pi/2, [0,1])\n",
    "        XX_qc.append(ZZ_gate(1,t), [0,1])\n",
    "        XX_qc.ry(-np.pi/2, [0,1])\n",
    "        XX = XX_qc.to_instruction()\n",
    "        return XX\n",
    "    def YY_gate(t):\n",
    "        YY_qr = QuantumRegister(2)\n",
    "        YY_qc = QuantumCircuit(YY_qr, name = 'YY')\n",
    "        YY_qc.rx(-np.pi / 2, [0,1])\n",
    "        YY_qc.append(ZZ_gate(1,t), [0,1])\n",
    "        YY_qc.rx(np.pi/2, [0,1])\n",
    "        YY = YY_qc.to_instruction()\n",
    "        return YY\n",
    "    \n",
    "    Trot_qr = QuantumRegister(num_qubits)\n",
    "    qc = QuantumCircuit(Trot_qr, name = 'Trot')\n",
    "\n",
    "    for i in range(num_qubits -1):\n",
    "        qc.append(XX_gate(t), [Trot_qr[i], Trot_qr[i+1]])\n",
    "        qc.append(YY_gate(t), [Trot_qr[i], Trot_qr[i+1]])\n",
    "        qc.append(ZZ_gate(J,t), [Trot_qr[i], Trot_qr[i+1]])\n",
    "\n",
    "    for i in range(num_qubits):\n",
    "        qc.rz(2 * deltas[i] *t, i)\n",
    "    \n",
    "    return qc\n",
    "\n",
    "    "
   ]
  },
  {
   "cell_type": "code",
   "execution_count": 9,
   "metadata": {},
   "outputs": [],
   "source": [
    "def U_trot_circuits_mbl(delta_t, trotter_steps, num_qubits, U, W, beta):\n",
    "    #record list of trotterized quantumc circuits for many body\n",
    "    #localization at all Trotter Steps\n",
    "\n",
    "    t = Parameter('t')\n",
    "    J = Parameter('J')\n",
    "    deltas = [Parameter('delta_{:d}'.format(idx)) for idx in range(num_qubits)]\n",
    "\n",
    "    AA_pattern = np.cos(2*np.pi*beta*np.arange(num_qubits))\n",
    "    disorders = W * AA_pattern\n",
    "    mbl_circuits = []\n",
    "\n",
    "    for n_steps in trotter_steps:\n",
    "        qr = QuantumRegister(num_qubits)\n",
    "        cr = ClassicalRegister(num_qubits)\n",
    "        qc = QuantumCircuit(qr, cr)\n",
    "\n",
    "        qc.x([0,4,8])\n",
    "\n",
    "        for _ in range(n_steps):\n",
    "            qc.append(Trot_qc_mbl(num_qubits, t, J, deltas), qr)\n",
    "        \n",
    "        qc = qc.bind_parameters({t:delta_t})\n",
    "        qc = qc.bind_parameters({deltas[idx]: disorders[idx] for idx in range(num_qubits)})\n",
    "        qc = qc.bind_parameters({J:U})\n",
    "        mbl_circuits.append(qc)\n",
    "\n",
    "    return mbl_circuits"
   ]
  },
  {
   "cell_type": "code",
   "execution_count": 11,
   "metadata": {},
   "outputs": [
    {
     "data": {
      "application/vnd.jupyter.widget-view+json": {
       "model_id": "8785641566434f9f818afb9ed8d0bd70",
       "version_major": 2,
       "version_minor": 0
      },
      "text/plain": [
       "  0%|          | 0/4 [00:00<?, ?it/s]"
      ]
     },
     "metadata": {},
     "output_type": "display_data"
    },
    {
     "name": "stderr",
     "output_type": "stream",
     "text": [
      "C:\\Users\\abira\\AppData\\Local\\Temp\\ipykernel_28172\\4128953266.py:13: SyntaxWarning: 'int' object is not callable; perhaps you missed a comma?\n",
      "  imabalance_val += np.abs(amp) ** 2 (Ne - No) / (Ne + No)\n",
      "C:\\Users\\abira\\AppData\\Local\\Temp\\ipykernel_28172\\4128953266.py:13: SyntaxWarning: 'int' object is not callable; perhaps you missed a comma?\n",
      "  imabalance_val += np.abs(amp) ** 2 (Ne - No) / (Ne + No)\n",
      "C:\\Users\\abira\\AppData\\Local\\Temp\\ipykernel_28172\\4128953266.py:13: SyntaxWarning: 'int' object is not callable; perhaps you missed a comma?\n",
      "  imabalance_val += np.abs(amp) ** 2 (Ne - No) / (Ne + No)\n"
     ]
    },
    {
     "ename": "TypeError",
     "evalue": "'int' object is not callable",
     "output_type": "error",
     "traceback": [
      "\u001b[1;31m---------------------------------------------------------------------------\u001b[0m",
      "\u001b[1;31mTypeError\u001b[0m                                 Traceback (most recent call last)",
      "\u001b[1;32mc:\\Users\\abira\\OneDrive\\Documents\\Programming\\QuantumAlgorithms\\HeisenbergMBLPrac.ipynb Cell 5\u001b[0m in \u001b[0;36m<cell line: 24>\u001b[1;34m()\u001b[0m\n\u001b[0;32m     <a href='vscode-notebook-cell:/c%3A/Users/abira/OneDrive/Documents/Programming/QuantumAlgorithms/HeisenbergMBLPrac.ipynb#W4sZmlsZQ%3D%3D?line=40'>41</a>\u001b[0m entropy \u001b[39m+\u001b[39m\u001b[39m=\u001b[39m qi\u001b[39m.\u001b[39mentropy(rho_0, base \u001b[39m=\u001b[39m np\u001b[39m.\u001b[39mexp(\u001b[39m1\u001b[39m))\n\u001b[0;32m     <a href='vscode-notebook-cell:/c%3A/Users/abira/OneDrive/Documents/Programming/QuantumAlgorithms/HeisenbergMBLPrac.ipynb#W4sZmlsZQ%3D%3D?line=42'>43</a>\u001b[0m imbalance \u001b[39m=\u001b[39m \u001b[39m0\u001b[39m\n\u001b[1;32m---> <a href='vscode-notebook-cell:/c%3A/Users/abira/OneDrive/Documents/Programming/QuantumAlgorithms/HeisenbergMBLPrac.ipynb#W4sZmlsZQ%3D%3D?line=43'>44</a>\u001b[0m imbalance \u001b[39m+\u001b[39m\u001b[39m=\u001b[39m get_Imbalance(outputstate)\n\u001b[0;32m     <a href='vscode-notebook-cell:/c%3A/Users/abira/OneDrive/Documents/Programming/QuantumAlgorithms/HeisenbergMBLPrac.ipynb#W4sZmlsZQ%3D%3D?line=45'>46</a>\u001b[0m vn_entropies[W]\u001b[39m.\u001b[39mappend(entropy)\n\u001b[0;32m     <a href='vscode-notebook-cell:/c%3A/Users/abira/OneDrive/Documents/Programming/QuantumAlgorithms/HeisenbergMBLPrac.ipynb#W4sZmlsZQ%3D%3D?line=46'>47</a>\u001b[0m probability_densities[W]\u001b[39m.\u001b[39mappend(ps)\n",
      "\u001b[1;32mc:\\Users\\abira\\OneDrive\\Documents\\Programming\\QuantumAlgorithms\\HeisenbergMBLPrac.ipynb Cell 5\u001b[0m in \u001b[0;36mget_Imbalance\u001b[1;34m(state)\u001b[0m\n\u001b[0;32m     <a href='vscode-notebook-cell:/c%3A/Users/abira/OneDrive/Documents/Programming/QuantumAlgorithms/HeisenbergMBLPrac.ipynb#W4sZmlsZQ%3D%3D?line=10'>11</a>\u001b[0m             No \u001b[39m+\u001b[39m\u001b[39m=\u001b[39m \u001b[39m1\u001b[39m\n\u001b[0;32m     <a href='vscode-notebook-cell:/c%3A/Users/abira/OneDrive/Documents/Programming/QuantumAlgorithms/HeisenbergMBLPrac.ipynb#W4sZmlsZQ%3D%3D?line=11'>12</a>\u001b[0m     \u001b[39mif\u001b[39;00m Ne \u001b[39m+\u001b[39m No \u001b[39m!=\u001b[39m \u001b[39m0\u001b[39m:\n\u001b[1;32m---> <a href='vscode-notebook-cell:/c%3A/Users/abira/OneDrive/Documents/Programming/QuantumAlgorithms/HeisenbergMBLPrac.ipynb#W4sZmlsZQ%3D%3D?line=12'>13</a>\u001b[0m         imabalance_val \u001b[39m+\u001b[39m\u001b[39m=\u001b[39m np\u001b[39m.\u001b[39mabs(amp) \u001b[39m*\u001b[39m\u001b[39m*\u001b[39m \u001b[39m2\u001b[39;49m (Ne \u001b[39m-\u001b[39;49m No) \u001b[39m/\u001b[39m (Ne \u001b[39m+\u001b[39m No)\n\u001b[0;32m     <a href='vscode-notebook-cell:/c%3A/Users/abira/OneDrive/Documents/Programming/QuantumAlgorithms/HeisenbergMBLPrac.ipynb#W4sZmlsZQ%3D%3D?line=13'>14</a>\u001b[0m \u001b[39mreturn\u001b[39;00m imabalance_val\n",
      "\u001b[1;31mTypeError\u001b[0m: 'int' object is not callable"
     ]
    }
   ],
   "source": [
    "delta_t = 0.15\n",
    "trotter_steps = np.arange(1,25,1)\n",
    "num_qubits = 12\n",
    "U =1.0\n",
    "beta = (np.sqrt(5) - 1) / 2\n",
    "\n",
    "circuits = {}\n",
    "Ws = [0.2,2,4,8]\n",
    "\n",
    "for W in Ws:\n",
    "    circuits[W] = U_trot_circuits_mbl(\n",
    "        delta_t= delta_t,\n",
    "        trotter_steps= trotter_steps,\n",
    "        num_qubits= num_qubits,\n",
    "        U = U,\n",
    "        W= W,\n",
    "        beta = beta\n",
    "    )\n",
    "backend_sim = Aer.get_backend('statevector_simulator')\n",
    "probability_densities = {}\n",
    "state_vector_imbalances = {}\n",
    "vn_entropies = {}\n",
    "\n",
    "for W in tqdm(Ws):\n",
    "    probability_densities[W] = []\n",
    "    state_vector_imbalances[W] = []\n",
    "    vn_entropies[W] = []\n",
    "\n",
    "    for circ in circuits[W]:\n",
    "        transpiled_circ = transpile(circ, backend_sim, optimization_level= 3)\n",
    "        job_sim = backend_sim.run(transpiled_circ)\n",
    "        result_sim = job_sim.result()\n",
    "        outputstate = result_sim.get_statevector(transpiled_circ,decimals = 6)\n",
    "\n",
    "        ps = []\n",
    "        for idx in range(num_qubits):\n",
    "            ps.append(np.abs(qi.partial_trace(outputstate, [i for i in range(num_qubits)])))\n",
    "\n",
    "        entropy = 0\n",
    "        rho_0 = qi.partial_trace(outputstate, range(1, num_qubits))\n",
    "        entropy += qi.entropy(rho_0, base = np.exp(1))\n",
    "\n",
    "        imbalance = 0\n",
    "        imbalance += get_Imbalance(outputstate)\n",
    "\n",
    "        vn_entropies[W].append(entropy)\n",
    "        probability_densities[W].append(ps)\n",
    "        state_vector_imbalances[W].apend(imbalance)\n"
   ]
  }
 ],
 "metadata": {
  "kernelspec": {
   "display_name": "Python 3",
   "language": "python",
   "name": "python3"
  },
  "language_info": {
   "codemirror_mode": {
    "name": "ipython",
    "version": 3
   },
   "file_extension": ".py",
   "mimetype": "text/x-python",
   "name": "python",
   "nbconvert_exporter": "python",
   "pygments_lexer": "ipython3",
   "version": "3.10.4 (tags/v3.10.4:9d38120, Mar 23 2022, 23:13:41) [MSC v.1929 64 bit (AMD64)]"
  },
  "orig_nbformat": 4,
  "vscode": {
   "interpreter": {
    "hash": "82d8b8c0e0cff7f9c0ebf5c0e4b510c86a442baeee169f356d7c0d3eff81e5f6"
   }
  }
 },
 "nbformat": 4,
 "nbformat_minor": 2
}
